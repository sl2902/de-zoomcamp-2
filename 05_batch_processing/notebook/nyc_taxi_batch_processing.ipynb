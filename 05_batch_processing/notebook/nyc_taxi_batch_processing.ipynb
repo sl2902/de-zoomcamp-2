{
 "cells": [
  {
   "cell_type": "code",
   "execution_count": 1,
   "id": "a18deac3-247b-4ec1-b97b-e7482e46f394",
   "metadata": {},
   "outputs": [],
   "source": [
    "from pyspark.sql import SparkSession\n",
    "from pyspark.sql.functions import *\n",
    "from pyspark.sql.types import *\n",
    "from pyspark import SparkFiles\n",
    "import findspark"
   ]
  },
  {
   "cell_type": "code",
   "execution_count": 2,
   "id": "2620c785-7282-4c56-82bb-09ff4a9334de",
   "metadata": {},
   "outputs": [],
   "source": [
    "findspark.init()"
   ]
  },
  {
   "cell_type": "code",
   "execution_count": 3,
   "id": "8aa7bef3-522c-4b24-a256-182e6e9a5b0e",
   "metadata": {},
   "outputs": [
    {
     "name": "stdout",
     "output_type": "stream",
     "text": [
      "24/02/29 16:17:19 WARN Utils: Your hostname, sls-MacBook-Pro.local resolves to a loopback address: 127.0.0.1; using 192.168.29.248 instead (on interface en0)\n",
      "24/02/29 16:17:19 WARN Utils: Set SPARK_LOCAL_IP if you need to bind to another address\n"
     ]
    },
    {
     "name": "stderr",
     "output_type": "stream",
     "text": [
      "Setting default log level to \"WARN\".\n",
      "To adjust logging level use sc.setLogLevel(newLevel). For SparkR, use setLogLevel(newLevel).\n"
     ]
    },
    {
     "name": "stdout",
     "output_type": "stream",
     "text": [
      "24/02/29 16:17:19 WARN NativeCodeLoader: Unable to load native-hadoop library for your platform... using builtin-java classes where applicable\n"
     ]
    }
   ],
   "source": [
    "spark = (\n",
    "    SparkSession.builder\n",
    "            .master(\"local[*]\")\n",
    "            .appName(\"NYC Taxi Batch processing\")\n",
    "            .getOrCreate()\n",
    ")"
   ]
  },
  {
   "cell_type": "markdown",
   "id": "ad75a516-2ef1-4f6e-9ce9-cb5903b1e660",
   "metadata": {},
   "source": [
    "Q1\n",
    "\n",
    "What is the version of Spark in use?"
   ]
  },
  {
   "cell_type": "code",
   "execution_count": 4,
   "id": "7fe38dde-95d1-4054-9bef-0914d89cca20",
   "metadata": {},
   "outputs": [
    {
     "data": {
      "text/plain": [
       "'3.3.0'"
      ]
     },
     "execution_count": 4,
     "metadata": {},
     "output_type": "execute_result"
    }
   ],
   "source": [
    "spark.version"
   ]
  },
  {
   "cell_type": "markdown",
   "id": "0f93a2fe-2094-492b-9456-5279f7615b9d",
   "metadata": {},
   "source": [
    "Q2\n",
    "\n",
    "FHV October 2019\n",
    "\n",
    "Read the October 2019 FHV into a Spark Dataframe with a schema as we did in the lessons.\n",
    "\n",
    "Repartition the Dataframe to 6 partitions and save it to parquet.\n",
    "\n",
    "What is the average size of the Parquet (ending with .parquet extension) Files that were created (in MB)? Select the answer which most closely matches."
   ]
  },
  {
   "cell_type": "code",
   "execution_count": 5,
   "id": "7bc2504e-29c1-487a-bd56-cb63be301759",
   "metadata": {},
   "outputs": [],
   "source": [
    "file_url = 'https://d37ci6vzurychx.cloudfront.net/trip-data/fhv_tripdata_2019-10.parquet'"
   ]
  },
  {
   "cell_type": "code",
   "execution_count": 6,
   "id": "cbf796b4-d9a7-45a9-8fce-117ef650b2fb",
   "metadata": {},
   "outputs": [],
   "source": [
    "spark.sparkContext.addFile(file_url)"
   ]
  },
  {
   "cell_type": "code",
   "execution_count": 7,
   "id": "6f80031b-4166-420e-9dea-0488a1217ae9",
   "metadata": {},
   "outputs": [],
   "source": [
    "schema = StructType(\n",
    "            [\n",
    "                StructField(\"dispatching_base_num\", StringType()),\n",
    "                StructField(\"pickup_datetime\", TimestampType()),\n",
    "                StructField(\"dropoff_datetime\", TimestampType()),\n",
    "                StructField(\"PULocationID\", IntegerType()),\n",
    "                StructField(\"DOLocationID\", IntegerType()),\n",
    "                StructField(\"SR_Flag\", StringType()),\n",
    "                StructField(\"Affiliated_base_number\", StringType())\n",
    "            ]\n",
    ")"
   ]
  },
  {
   "cell_type": "code",
   "execution_count": 8,
   "id": "09d358ec-9086-4d87-99ee-34ea3c488d37",
   "metadata": {},
   "outputs": [],
   "source": [
    "# to counter the following error\n",
    "# Parquet column cannot be converted in file \n",
    "# file:///private/var/folders/tb/tknsg8m10jvc1t4fztzvf7kh0000gn/T/spark-ee38c745-46da-4d4a-9d36-0b8860405f64/userFiles-40720fdf-cdc1-40e1-859d-1da9e4f4cf59/fhv_tripdata_2019-10.parquet. Column: [PUlocationID], Expected: int, Found: DOUBLE\n",
    "# below config doesn't fix the error\n",
    "# spark.conf.set(\"spark.sql.parquet.enableVectorizedReader\",\"false\")"
   ]
  },
  {
   "cell_type": "code",
   "execution_count": 13,
   "id": "ceca8576-cab3-4cc5-855a-fcf53209f6ae",
   "metadata": {},
   "outputs": [],
   "source": [
    "df = (\n",
    "    spark\n",
    "        .read\n",
    "        # .schema(schema)\n",
    "        .parquet(SparkFiles.get(file_url.split(\"/\")[-1]))\n",
    ")"
   ]
  },
  {
   "cell_type": "code",
   "execution_count": 14,
   "id": "e6e5f56f-3310-4534-ab0a-818d10a547f2",
   "metadata": {},
   "outputs": [
    {
     "name": "stdout",
     "output_type": "stream",
     "text": [
      "root\n",
      " |-- dispatching_base_num: string (nullable = true)\n",
      " |-- pickup_datetime: timestamp (nullable = true)\n",
      " |-- dropOff_datetime: timestamp (nullable = true)\n",
      " |-- PUlocationID: double (nullable = true)\n",
      " |-- DOlocationID: double (nullable = true)\n",
      " |-- SR_Flag: integer (nullable = true)\n",
      " |-- Affiliated_base_number: string (nullable = true)\n",
      "\n"
     ]
    }
   ],
   "source": [
    "df.printSchema()"
   ]
  },
  {
   "cell_type": "code",
   "execution_count": 15,
   "id": "25e9a709-00c4-4280-a4b7-8804dc13bf43",
   "metadata": {},
   "outputs": [
    {
     "data": {
      "text/plain": [
       "1897856"
      ]
     },
     "execution_count": 15,
     "metadata": {},
     "output_type": "execute_result"
    }
   ],
   "source": [
    "df.count()"
   ]
  },
  {
   "cell_type": "code",
   "execution_count": 58,
   "id": "27f6ea0a-8223-443b-9ef7-6810de8ed79e",
   "metadata": {},
   "outputs": [
    {
     "name": "stderr",
     "output_type": "stream",
     "text": [
      "                                                                                \r"
     ]
    }
   ],
   "source": [
    "(\n",
    "    df.write\n",
    "        .mode(\"overwrite\")\n",
    "        .parquet(\"../data/fhv/2019/10\")\n",
    ")"
   ]
  },
  {
   "cell_type": "code",
   "execution_count": 20,
   "id": "76ef00ac-5127-4f60-8bea-dfe43e23b439",
   "metadata": {},
   "outputs": [],
   "source": [
    "df = df.repartition(6)"
   ]
  },
  {
   "cell_type": "code",
   "execution_count": 21,
   "id": "57137a6b-d4c9-4482-880c-640409a6f2f3",
   "metadata": {},
   "outputs": [
    {
     "name": "stdout",
     "output_type": "stream",
     "text": [
      "total 78096\n",
      "-rw-r--r--  1 home  staff     0B Feb 29 16:57 _SUCCESS\n",
      "-rw-r--r--  1 home  staff   6.4M Feb 29 16:57 part-00000-1d7132c5-8b5f-45b2-ae64-d1aeb16e02b2-c000.snappy.parquet\n",
      "-rw-r--r--  1 home  staff   6.3M Feb 29 16:57 part-00001-1d7132c5-8b5f-45b2-ae64-d1aeb16e02b2-c000.snappy.parquet\n",
      "-rw-r--r--  1 home  staff   6.4M Feb 29 16:57 part-00002-1d7132c5-8b5f-45b2-ae64-d1aeb16e02b2-c000.snappy.parquet\n",
      "-rw-r--r--  1 home  staff   6.3M Feb 29 16:57 part-00003-1d7132c5-8b5f-45b2-ae64-d1aeb16e02b2-c000.snappy.parquet\n",
      "-rw-r--r--  1 home  staff   6.4M Feb 29 16:57 part-00004-1d7132c5-8b5f-45b2-ae64-d1aeb16e02b2-c000.snappy.parquet\n",
      "-rw-r--r--  1 home  staff   6.4M Feb 29 16:57 part-00005-1d7132c5-8b5f-45b2-ae64-d1aeb16e02b2-c000.snappy.parquet\n"
     ]
    }
   ],
   "source": [
    "!ls -lh \"../data/fhv/2019/10\""
   ]
  },
  {
   "cell_type": "markdown",
   "id": "3275c11a-2ed2-40b7-8d04-336cf933ea33",
   "metadata": {},
   "source": [
    "Q3\n",
    "\n",
    "Count records\n",
    "\n",
    "How many taxi trips were there on the 15th of October?\n",
    "\n",
    "Consider only trips that started on the 15th of October."
   ]
  },
  {
   "cell_type": "code",
   "execution_count": 59,
   "id": "6da66479-3646-4523-a374-1cb592e5e53a",
   "metadata": {},
   "outputs": [
    {
     "data": {
      "text/plain": [
       "61077"
      ]
     },
     "execution_count": 59,
     "metadata": {},
     "output_type": "execute_result"
    }
   ],
   "source": [
    "(\n",
    "    df\n",
    "    .filter(col(\"pickup_datetime\").cast(DateType()) == '2019-10-15')\n",
    "    .count()\n",
    ")"
   ]
  },
  {
   "cell_type": "markdown",
   "id": "bf3e5d28-8dd6-440d-b313-eb5444ea3eea",
   "metadata": {},
   "source": [
    "Q4\n",
    "\n",
    "Longest trip for each day\n",
    "\n",
    "What is the length of the longest trip in the dataset in hours?"
   ]
  },
  {
   "cell_type": "code",
   "execution_count": 62,
   "id": "c6abad28-5f2a-4dcc-99b5-e7dcff0a27f1",
   "metadata": {},
   "outputs": [
    {
     "name": "stderr",
     "output_type": "stream",
     "text": [
      "[Stage 127:=============================================>           (4 + 1) / 5]\r"
     ]
    },
    {
     "name": "stdout",
     "output_type": "stream",
     "text": [
      "+-----------+----------------+\n",
      "|pickup_date|max_duration_hrs|\n",
      "+-----------+----------------+\n",
      "| 2019-10-28|        631152.5|\n",
      "+-----------+----------------+\n",
      "\n"
     ]
    },
    {
     "name": "stderr",
     "output_type": "stream",
     "text": [
      "                                                                                \r"
     ]
    }
   ],
   "source": [
    "(\n",
    "    df\n",
    "    .select(col(\"dropoff_datetime\"), col(\"pickup_datetime\"))\n",
    "    .withColumn(\"duration\", (col(\"dropoff_datetime\") - col(\"pickup_datetime\")).cast(LongType())/3600)\n",
    "    .withColumn(\"pickup_date\", to_date(col(\"pickup_datetime\")))\n",
    "    .groupBy(\"pickup_date\")\n",
    "    .max(\"duration\")\n",
    "    .withColumnRenamed(\"max(duration)\", \"max_duration_hrs\")\n",
    "    .orderBy('max_duration_hrs', ascending=False) \\\n",
    "    .limit(1)\n",
    "    .show()\n",
    ")"
   ]
  },
  {
   "cell_type": "markdown",
   "id": "93d524ac-adfd-4d50-bbd6-eecfa6d878ae",
   "metadata": {},
   "source": [
    "Q5\n",
    "\n",
    "http://localhost:4040"
   ]
  },
  {
   "cell_type": "markdown",
   "id": "d1b80229-4ab3-4a65-9fe5-a6940d4672e6",
   "metadata": {},
   "source": [
    "Q6:\n",
    "Least frequent pickup location zone\n",
    "\n",
    "Load the zone lookup data into a temp view in Spark\n",
    "Zone Data\n",
    "\n",
    "Using the zone lookup data and the FHV October 2019 data, what is the name of the LEAST frequent pickup location Zone?\n",
    "\n"
   ]
  },
  {
   "cell_type": "code",
   "execution_count": 48,
   "id": "64f4ca43-bd79-49f4-a128-df5c6ece34ba",
   "metadata": {},
   "outputs": [],
   "source": [
    "df_zones = spark.read.csv('../input_data/taxi_zone_lookup.csv', header=\"true\")"
   ]
  },
  {
   "cell_type": "code",
   "execution_count": 49,
   "id": "c34eb079-2c85-4a36-b84b-f1ea50748420",
   "metadata": {},
   "outputs": [],
   "source": [
    "df.createOrReplaceTempView('fhv_2019_10')\n",
    "df_zones.createOrReplaceTempView('taxi_trip_zones')"
   ]
  },
  {
   "cell_type": "code",
   "execution_count": 60,
   "id": "c19363ca-d481-4f1d-a4b5-eaec21a83b6b",
   "metadata": {},
   "outputs": [
    {
     "name": "stdout",
     "output_type": "stream",
     "text": [
      "+--------------------+-----------+\n",
      "|                zone|num_pickups|\n",
      "+--------------------+-----------+\n",
      "|         Jamaica Bay|          1|\n",
      "|Governor's Island...|          2|\n",
      "| Green-Wood Cemetery|          5|\n",
      "+--------------------+-----------+\n",
      "only showing top 3 rows\n",
      "\n"
     ]
    }
   ],
   "source": [
    "spark.sql(\n",
    "    \"\"\"\n",
    "    select\n",
    "     zone,\n",
    "     count(*) num_pickups\n",
    "    from\n",
    "     fhv_2019_10 a left join taxi_trip_zones b on a.PULocationID = cast(b.LocationID as double)\n",
    "    group by\n",
    "     zone\n",
    "    order by\n",
    "     num_pickups asc\n",
    "    \"\"\"\n",
    ").show(3)\n",
    "     "
   ]
  },
  {
   "cell_type": "code",
   "execution_count": null,
   "id": "e14493da-1852-49b8-995f-84e1d2a7acec",
   "metadata": {},
   "outputs": [],
   "source": []
  }
 ],
 "metadata": {
  "kernelspec": {
   "display_name": "05_batch_processing-ek8kXzFk",
   "language": "python",
   "name": "05_batch_processing-ek8kxzfk"
  },
  "language_info": {
   "codemirror_mode": {
    "name": "ipython",
    "version": 3
   },
   "file_extension": ".py",
   "mimetype": "text/x-python",
   "name": "python",
   "nbconvert_exporter": "python",
   "pygments_lexer": "ipython3",
   "version": "3.8.3"
  }
 },
 "nbformat": 4,
 "nbformat_minor": 5
}
